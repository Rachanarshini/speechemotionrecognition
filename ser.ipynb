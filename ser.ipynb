{
 "cells": [
  {
   "cell_type": "code",
   "execution_count": 3,
   "metadata": {},
   "outputs": [],
   "source": [
    "import librosa\n",
    "import soundfile\n",
    "import os, glob, pickle\n",
    "import numpy as np\n",
    "from sklearn.model_selection import train_test_split\n",
    "from sklearn.neural_network import MLPClassifier\n",
    "from sklearn.metrics import accuracy_score"
   ]
  },
  {
   "cell_type": "code",
   "execution_count": 4,
   "metadata": {},
   "outputs": [],
   "source": [
    "#Data - Extract features (mfcc, chroma, mel) from a sound file\n",
    "def extract_feature(file_name, mfcc, chroma, mel):\n",
    "    with soundfile.SoundFile(file_name) as sound_file:\n",
    "        X = sound_file.read(dtype=\"float32\")\n",
    "        sample_rate=sound_file.samplerate\n",
    "        if chroma:\n",
    "            stft=np.abs(librosa.stft(X))\n",
    "            result=np.array([])\n",
    "        if mfcc:\n",
    "            mfccs=np.mean(librosa.feature.mfcc(y=X, sr=sample_rate, n_mfcc=40).T, axis=0)\n",
    "            result=np.hstack((result, mfccs))\n",
    "        if chroma:\n",
    "            chroma=np.mean(librosa.feature.chroma_stft(S=stft, sr=sample_rate).T,axis=0)\n",
    "            result=np.hstack((result, chroma))\n",
    "        if mel:\n",
    "            mel=np.mean(librosa.feature.melspectrogram(X, sr=sample_rate).T,axis=0)\n",
    "            result=np.hstack((result, mel))\n",
    "        return result"
   ]
  },
  {
   "cell_type": "code",
   "execution_count": 5,
   "metadata": {},
   "outputs": [],
   "source": [
    "#Data - Emotions in the RAVDESS dataset\n",
    "emotions={\n",
    "  '01':'neutral',\n",
    "  '02':'calm',\n",
    "  '03':'happy',\n",
    "  '04':'sad',\n",
    "  '05':'angry',\n",
    "  '06':'fearful',\n",
    "  '07':'disgust',\n",
    "  '08':'surprised'\n",
    "}\n",
    "\n",
    "#Data - Emotions to observe\n",
    "observed_emotions=['calm', 'happy', 'fearful', 'disgust']"
   ]
  },
  {
   "cell_type": "code",
   "execution_count": 6,
   "metadata": {},
   "outputs": [],
   "source": [
    "#Data - Load the data and extract features for each sound file\n",
    "def load_data(test_size=0.2):\n",
    "    x,y=[],[]\n",
    "    for file in glob.glob(\"Actor_*\\\\*.wav\"):\n",
    "        file_name=os.path.basename(file)\n",
    "        emotion=emotions[file_name.split(\"-\")[2]]\n",
    "        if emotion not in observed_emotions:\n",
    "            continue\n",
    "        feature=extract_feature(file, mfcc=True, chroma=True, mel=True)\n",
    "        x.append(feature)\n",
    "        y.append(emotion)\n",
    "    return train_test_split(np.array(x), y, test_size=test_size, random_state=9)"
   ]
  },
  {
   "cell_type": "code",
   "execution_count": 7,
   "metadata": {},
   "outputs": [],
   "source": [
    "#Data - Split the dataset\n",
    "x_train,x_test,y_train,y_test=load_data(test_size=0.25)"
   ]
  },
  {
   "cell_type": "code",
   "execution_count": 8,
   "metadata": {},
   "outputs": [
    {
     "name": "stdout",
     "output_type": "stream",
     "text": [
      "(576, 192)\n"
     ]
    }
   ],
   "source": [
    "#Data - Get the shape of the training and testing datasets\n",
    "print((x_train.shape[0], x_test.shape[0]))"
   ]
  },
  {
   "cell_type": "code",
   "execution_count": 9,
   "metadata": {},
   "outputs": [
    {
     "name": "stdout",
     "output_type": "stream",
     "text": [
      "Features extracted: 180\n"
     ]
    }
   ],
   "source": [
    "#Data - Get the number of features extracted\n",
    "print(f'Features extracted: {x_train.shape[1]}')"
   ]
  },
  {
   "cell_type": "code",
   "execution_count": 10,
   "metadata": {},
   "outputs": [],
   "source": [
    "#Data - Initialize the Multi Layer Perceptron Classifier\n",
    "model=MLPClassifier(alpha=0.01, batch_size=256, epsilon=1e-08, hidden_layer_sizes=(300,), learning_rate='adaptive', max_iter=500)"
   ]
  },
  {
   "cell_type": "code",
   "execution_count": 11,
   "metadata": {},
   "outputs": [
    {
     "data": {
      "text/plain": [
       "MLPClassifier(activation='relu', alpha=0.01, batch_size=256, beta_1=0.9,\n",
       "              beta_2=0.999, early_stopping=False, epsilon=1e-08,\n",
       "              hidden_layer_sizes=(300,), learning_rate='adaptive',\n",
       "              learning_rate_init=0.001, max_iter=500, momentum=0.9,\n",
       "              n_iter_no_change=10, nesterovs_momentum=True, power_t=0.5,\n",
       "              random_state=None, shuffle=True, solver='adam', tol=0.0001,\n",
       "              validation_fraction=0.1, verbose=False, warm_start=False)"
      ]
     },
     "execution_count": 11,
     "metadata": {},
     "output_type": "execute_result"
    }
   ],
   "source": [
    "#Data - Train the model\n",
    "model.fit(x_train,y_train)"
   ]
  },
  {
   "cell_type": "code",
   "execution_count": 12,
   "metadata": {},
   "outputs": [],
   "source": [
    "#Data- Predict for the test set\n",
    "y_pred=model.predict(x_test)"
   ]
  },
  {
   "cell_type": "code",
   "execution_count": 13,
   "metadata": {},
   "outputs": [
    {
     "name": "stdout",
     "output_type": "stream",
     "text": [
      "192\n"
     ]
    }
   ],
   "source": [
    "print(len(x_test))"
   ]
  },
  {
   "cell_type": "code",
   "execution_count": 14,
   "metadata": {
    "scrolled": true
   },
   "outputs": [
    {
     "name": "stdout",
     "output_type": "stream",
     "text": [
      "[[-6.01416077e+02  6.33363037e+01 -1.16155634e+01 ...  7.30560214e-06\n",
      "   4.64440200e-06  1.78248013e-06]\n",
      " [-7.87200195e+02  5.97919426e+01  2.11022396e+01 ...  4.30602057e-07\n",
      "   4.01216226e-07  4.06060309e-07]\n",
      " [-5.60616211e+02  5.78973503e+01 -8.86894608e+00 ...  6.46989676e-04\n",
      "   3.31015413e-04  1.85833647e-04]\n",
      " ...\n",
      " [-4.44761963e+02  2.36135769e+01 -1.48351011e+01 ...  8.65290698e-04\n",
      "   5.16015454e-04  3.73600313e-04]\n",
      " [-5.96088257e+02  6.75587769e+01  1.62860453e+00 ...  2.92377263e-05\n",
      "   2.20639995e-05  1.13877868e-05]\n",
      " [-6.95250610e+02  4.46737938e+01 -7.46818161e+00 ...  2.15334803e-05\n",
      "   1.84785295e-05  1.01300748e-05]]\n"
     ]
    }
   ],
   "source": [
    "print(x_test)"
   ]
  },
  {
   "cell_type": "code",
   "execution_count": 15,
   "metadata": {},
   "outputs": [
    {
     "name": "stdout",
     "output_type": "stream",
     "text": [
      "['happy' 'calm' 'happy' 'happy' 'disgust' 'calm' 'calm' 'happy' 'calm'\n",
      " 'happy' 'happy' 'calm' 'fearful' 'happy' 'disgust' 'happy' 'calm'\n",
      " 'disgust' 'happy' 'calm' 'disgust' 'disgust' 'disgust' 'calm' 'happy'\n",
      " 'happy' 'disgust' 'happy' 'calm' 'happy' 'happy' 'happy' 'happy' 'calm'\n",
      " 'happy' 'calm' 'calm' 'fearful' 'calm' 'disgust' 'happy' 'disgust' 'calm'\n",
      " 'calm' 'happy' 'disgust' 'disgust' 'calm' 'happy' 'happy' 'fearful'\n",
      " 'fearful' 'fearful' 'happy' 'happy' 'calm' 'disgust' 'happy' 'calm'\n",
      " 'calm' 'disgust' 'calm' 'happy' 'happy' 'disgust' 'calm' 'calm' 'calm'\n",
      " 'disgust' 'happy' 'fearful' 'fearful' 'fearful' 'fearful' 'fearful'\n",
      " 'disgust' 'happy' 'happy' 'calm' 'fearful' 'disgust' 'calm' 'happy'\n",
      " 'calm' 'disgust' 'happy' 'disgust' 'happy' 'happy' 'happy' 'disgust'\n",
      " 'happy' 'calm' 'happy' 'disgust' 'disgust' 'calm' 'calm' 'calm' 'disgust'\n",
      " 'fearful' 'disgust' 'disgust' 'fearful' 'disgust' 'calm' 'disgust'\n",
      " 'happy' 'fearful' 'happy' 'happy' 'calm' 'calm' 'fearful' 'fearful'\n",
      " 'calm' 'calm' 'happy' 'calm' 'fearful' 'disgust' 'calm' 'happy' 'happy'\n",
      " 'fearful' 'disgust' 'disgust' 'happy' 'calm' 'happy' 'fearful' 'happy'\n",
      " 'happy' 'disgust' 'disgust' 'disgust' 'fearful' 'calm' 'happy' 'happy'\n",
      " 'calm' 'calm' 'disgust' 'happy' 'happy' 'fearful' 'disgust' 'happy'\n",
      " 'happy' 'calm' 'calm' 'happy' 'happy' 'calm' 'happy' 'calm' 'calm'\n",
      " 'disgust' 'calm' 'disgust' 'disgust' 'calm' 'happy' 'calm' 'calm' 'happy'\n",
      " 'fearful' 'happy' 'calm' 'happy' 'happy' 'fearful' 'happy' 'disgust'\n",
      " 'happy' 'fearful' 'calm' 'fearful' 'happy' 'happy' 'disgust' 'happy'\n",
      " 'calm' 'calm' 'disgust' 'happy' 'happy' 'fearful' 'happy' 'happy'\n",
      " 'disgust' 'calm']\n"
     ]
    }
   ],
   "source": [
    "print(y_pred)"
   ]
  },
  {
   "cell_type": "code",
   "execution_count": 16,
   "metadata": {},
   "outputs": [
    {
     "data": {
      "text/plain": [
       "['ser.joblib']"
      ]
     },
     "execution_count": 16,
     "metadata": {},
     "output_type": "execute_result"
    }
   ],
   "source": [
    "from joblib import dump, load\n",
    "dump(model, 'ser.joblib') "
   ]
  },
  {
   "cell_type": "code",
   "execution_count": 17,
   "metadata": {},
   "outputs": [
    {
     "name": "stdout",
     "output_type": "stream",
     "text": [
      "[[-6.01416077e+02  6.33363037e+01 -1.16155634e+01 ...  7.30560214e-06\n",
      "   4.64440200e-06  1.78248013e-06]\n",
      " [-7.87200195e+02  5.97919426e+01  2.11022396e+01 ...  4.30602057e-07\n",
      "   4.01216226e-07  4.06060309e-07]\n",
      " [-5.60616211e+02  5.78973503e+01 -8.86894608e+00 ...  6.46989676e-04\n",
      "   3.31015413e-04  1.85833647e-04]\n",
      " ...\n",
      " [-4.44761963e+02  2.36135769e+01 -1.48351011e+01 ...  8.65290698e-04\n",
      "   5.16015454e-04  3.73600313e-04]\n",
      " [-5.96088257e+02  6.75587769e+01  1.62860453e+00 ...  2.92377263e-05\n",
      "   2.20639995e-05  1.13877868e-05]\n",
      " [-6.95250610e+02  4.46737938e+01 -7.46818161e+00 ...  2.15334803e-05\n",
      "   1.84785295e-05  1.01300748e-05]]\n"
     ]
    }
   ],
   "source": [
    "print(x_test)"
   ]
  },
  {
   "cell_type": "code",
   "execution_count": 18,
   "metadata": {},
   "outputs": [
    {
     "name": "stdout",
     "output_type": "stream",
     "text": [
      "Accuracy: 71.88%\n"
     ]
    }
   ],
   "source": [
    "accuracy=accuracy_score(y_true=y_test, y_pred=y_pred)\n",
    "\n",
    "#DataFlair - Print the accuracy\n",
    "print(\"Accuracy: {:.2f}%\".format(accuracy*100))"
   ]
  },
  {
   "cell_type": "markdown",
   "metadata": {},
   "source": [
    "# Checking the output"
   ]
  },
  {
   "cell_type": "code",
   "execution_count": 19,
   "metadata": {},
   "outputs": [],
   "source": [
    "        x,y=[],[]\n",
    "        file_name=os.path.basename(\"Actor_01\\\\03-01-02-02-02-02-01.wav\")\n",
    "        \n",
    "        feature1=extract_feature(\"Actor_01\\\\03-01-02-02-02-02-01.wav\", mfcc=True, chroma=True, mel=True)\n",
    "        x.append(feature1)\n",
    "        \n",
    "\n"
   ]
  },
  {
   "cell_type": "code",
   "execution_count": 20,
   "metadata": {
    "scrolled": true
   },
   "outputs": [
    {
     "name": "stdout",
     "output_type": "stream",
     "text": [
      "['happy']\n"
     ]
    }
   ],
   "source": [
    "from array import array\n",
    "ar=np.asarray(feature1)\n",
    "\n",
    "ar=ar.reshape(1,-1)\n",
    "emotion=model.predict(ar)\n",
    "print(emotion)\n"
   ]
  },
  {
   "cell_type": "markdown",
   "metadata": {},
   "source": [
    "# Giving file path as input"
   ]
  },
  {
   "cell_type": "code",
   "execution_count": 22,
   "metadata": {},
   "outputs": [
    {
     "name": "stdout",
     "output_type": "stream",
     "text": [
      "wavActor_01\\\\03-01-02-02-02-02-01.wav\n",
      "['happy']\n",
      "enter ch== y or nn\n"
     ]
    }
   ],
   "source": [
    "ch='y'\n",
    "while ch=='y':\n",
    "\n",
    "    xyz=str(input(\"wav\"))\n",
    "    file_name=os.path.basename(xyz)\n",
    "    feature1=extract_feature(xyz,mfcc=True,chroma=True,mel=True)\n",
    "    x.append(feature1)\n",
    "    \n",
    "    from array import array\n",
    "    ar=np.asarray(feature1)\n",
    "\n",
    "    ar=ar.reshape(1,-1)\n",
    "    emotion=model.predict(ar)\n",
    "    print(emotion)\n",
    "    ch=input(\"enter ch== y or n\")\n",
    "\n",
    "    \n",
    "\n",
    "\n"
   ]
  },
  {
   "cell_type": "markdown",
   "metadata": {},
   "source": [
    "# Browsing for WAV files and giving as input"
   ]
  },
  {
   "cell_type": "code",
   "execution_count": null,
   "metadata": {},
   "outputs": [
    {
     "name": "stdout",
     "output_type": "stream",
     "text": [
      "C:/Users/rachanarshini/OneDrive/Desktop/ser/Actor_07/03-01-08-02-02-02-07.wav\n",
      "['disgust']\n"
     ]
    }
   ],
   "source": [
    "from tkinter import * \n",
    "\n",
    "from tkinter import filedialog\n",
    "\n",
    "import sys\n",
    "if sys.version_info[0] < 3:\n",
    "   import Tkinter as Tk\n",
    "else:\n",
    "   import tkinter as Tk\n",
    "\n",
    "\n",
    "def browse_file():\n",
    "\n",
    "    fname = filedialog.askopenfilename(filetypes = ((\"wav files\", \"*.wav\"), (\"All files\", \"*\")))\n",
    "    print(fname)\n",
    "    xyz=fname\n",
    "    file_name=os.path.basename(xyz)\n",
    "    feature1=extract_feature(xyz,mfcc=True,chroma=True,mel=True)\n",
    "    x.append(feature1)\n",
    "    \n",
    "    from array import array\n",
    "    ar=np.asarray(feature1)\n",
    "\n",
    "    ar=ar.reshape(1,-1)\n",
    "    emotion=model.predict(ar)\n",
    "    print(emotion)\n",
    "\n",
    "root = Tk.Tk()\n",
    "root.wm_title(\"INPUT FOR SPEECH EMOTION RECOGNITION\")\n",
    "broButton = Tk.Button(master = root, text = 'Browse for file to be given as input', width = 50,command=browse_file)\n",
    "broButton.pack(side=Tk.TOP, padx = 500, pady=2)\n",
    "\n",
    "Button(root, text=\"Exit from recognition\",width = 30, command=root.destroy).pack()\n",
    "\n",
    "\n",
    "\n",
    "Tk.mainloop()\n"
   ]
  },
  {
   "cell_type": "code",
   "execution_count": null,
   "metadata": {},
   "outputs": [],
   "source": []
  },
  {
   "cell_type": "code",
   "execution_count": null,
   "metadata": {},
   "outputs": [],
   "source": []
  }
 ],
 "metadata": {
  "kernelspec": {
   "display_name": "Python 3",
   "language": "python",
   "name": "python3"
  },
  "language_info": {
   "codemirror_mode": {
    "name": "ipython",
    "version": 3
   },
   "file_extension": ".py",
   "mimetype": "text/x-python",
   "name": "python",
   "nbconvert_exporter": "python",
   "pygments_lexer": "ipython3",
   "version": "3.7.4"
  }
 },
 "nbformat": 4,
 "nbformat_minor": 2
}
